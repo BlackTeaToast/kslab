{
 "cells": [
  {
   "cell_type": "code",
   "execution_count": 1,
   "metadata": {},
   "outputs": [],
   "source": [
    "#!pip install imblearn\n",
    "import warnings\n",
    "warnings.filterwarnings('ignore')"
   ]
  },
  {
   "cell_type": "code",
   "execution_count": null,
   "metadata": {},
   "outputs": [],
   "source": [
    "from pymongo import MongoClient\n",
    "import pandas as pd\n",
    "\n",
    "import numpy as np\n",
    "from scipy import interp\n",
    "from scipy.stats import ttest_1samp, wilcoxon, mannwhitneyu\n",
    "\n",
    "import matplotlib.pyplot as plt\n",
    "from itertools import cycle\n",
    "\n",
    "from sklearn import svm, datasets\n",
    "from sklearn.metrics import roc_curve, auc\n",
    "from sklearn.model_selection import StratifiedKFold\n",
    "from sklearn.model_selection import train_test_split\n",
    "from sklearn.decomposition import PCA\n",
    "from sklearn.metrics import accuracy_score\n",
    "from sklearn.metrics import precision_recall_curve\n",
    "from sklearn.metrics import average_precision_score\n",
    "from sklearn.utils.fixes import signature\n",
    "\n",
    "from imblearn.over_sampling import SMOTE, ADASYN\n",
    "from imblearn.under_sampling import ClusterCentroids, NearMiss\n",
    "from imblearn.metrics import classification_report_imbalanced"
   ]
  },
  {
   "cell_type": "code",
   "execution_count": null,
   "metadata": {},
   "outputs": [],
   "source": [
    "conn = MongoClient('140.115.53.147', 27017)\n",
    "conn.database_names()"
   ]
  },
  {
   "cell_type": "code",
   "execution_count": null,
   "metadata": {},
   "outputs": [],
   "source": [
    "datasets = 'NCU_ETS'"
   ]
  },
  {
   "cell_type": "code",
   "execution_count": null,
   "metadata": {},
   "outputs": [],
   "source": [
    "db = conn[datasets]\n",
    "collection = db['ets_final_score']\n",
    "score_df = pd.DataFrame(list(collection.find()))\n",
    "score_df = score_df.drop(['_id'], axis=1)\n",
    "#score_df = df['final_score']\n",
    "#score_df = score_df.dropna()\n",
    "#score_df = score_df['final_score'].astype(float)\n",
    "len(score_df)"
   ]
  },
  {
   "cell_type": "code",
   "execution_count": null,
   "metadata": {
    "scrolled": true
   },
   "outputs": [],
   "source": [
    "db = conn[datasets]\n",
    "collection = db['ets_all_features_by_week']\n",
    "feature_df = pd.DataFrame(list(collection.find()))\n",
    "feature_df = feature_df.drop(['_id'], axis=1)\n",
    "\n",
    "feature_df = feature_df.fillna('0')\n",
    "#feature_df = df['final_score']\n",
    "#feature_df = score_df.dropna()\n",
    "#feature_df = feature_df.astype(float)\n",
    "\n",
    "#feature_df = feature_df.groupby(['username']).mean()\n",
    "feature_df.head(5)"
   ]
  },
  {
   "cell_type": "code",
   "execution_count": null,
   "metadata": {
    "scrolled": true
   },
   "outputs": [],
   "source": [
    "ncu_ets = pd.merge(feature_df, score_df, on='username')\n",
    "ncu_ets = ncu_ets.drop(['username'], axis=1)\n",
    "ncu_ets = ncu_ets.drop(['week'], axis=1)\n",
    "ncu_ets = ncu_ets.astype(float)\n",
    "ncu_ets['class'] = ncu_ets['final_score'] < 60\n",
    "ncu_ets = ncu_ets.drop(['final_score'], axis=1)\n",
    "ncu_ets.head(5)"
   ]
  },
  {
   "cell_type": "code",
   "execution_count": null,
   "metadata": {
    "scrolled": true
   },
   "outputs": [],
   "source": [
    "X = ncu_ets.drop(['class'], axis=1)\n",
    "X = X.values\n",
    "y = ncu_ets['class']\n",
    "\n",
    "# Run classifier with cross-validation and plot ROC curves\n",
    "cv = StratifiedKFold(n_splits=5)\n",
    "\n",
    "clf_binary = svm.SVC(kernel='rbf', \n",
    "                     probability=True,\n",
    "                     cache_size=700,\n",
    "                     random_state=5)\n",
    "\n",
    "clf_one = svm.OneClassSVM(kernel=\"rbf\",\n",
    "                         cache_size=700,\n",
    "                        random_state=5)\n"
   ]
  },
  {
   "cell_type": "code",
   "execution_count": null,
   "metadata": {},
   "outputs": [],
   "source": [
    "def compute_roc (X, y, title):\n",
    "    \n",
    "    tprs = []\n",
    "    aucs = []\n",
    "    #acc = []\n",
    "    mean_fpr = np.linspace(0, 1, 100)\n",
    "    \n",
    "    fig, (ax1, ax2) = plt.subplots(1, 2, figsize=(15, 5))\n",
    "    #fig, ax1 = plt.su\n",
    "    \n",
    "    i = 0\n",
    "    for train, test in cv.split(X, y):\n",
    "\n",
    "        y_pred = clf_binary.fit(X[train], y[train]).predict_proba(X[test])\n",
    "        # Compute ROC curve and area the curve\n",
    "        fpr, tpr, thresholds = roc_curve(y[test], y_pred[:, 1])\n",
    "        tprs.append(interp(mean_fpr, fpr, tpr))\n",
    "        tprs[-1][0] = 0.0\n",
    "        roc_auc = auc(fpr, tpr)\n",
    "        aucs.append(roc_auc)\n",
    "        acc = accuracy_score(y[test], y_pred[:, 1].round())\n",
    "        precision, recall, _ = precision_recall_curve(y[test], y_pred[:, 1])\n",
    "        average_precision = average_precision_score(y[test], y_pred[:, 1])\n",
    "        #accs.append(accuracy_score(y[test], y_pred[:, 1].round()))\n",
    "        ax1.plot(fpr, tpr, lw=1, alpha=0.3,\n",
    "                 label='ROC fold %d (AUC = %0.2f, ACC = %0.2f)' % (i, roc_auc, acc))\n",
    "\n",
    "        i += 1\n",
    "    ax1.plot([0, 1], [0, 1], linestyle='--', lw=2, color='r',\n",
    "             label='Chance', alpha=.8)\n",
    "\n",
    "    mean_tpr = np.mean(tprs, axis=0)\n",
    "    mean_tpr[-1] = 1.0\n",
    "    mean_auc = auc(mean_fpr, mean_tpr)\n",
    "    std_auc = np.std(aucs)\n",
    "    ax1.plot(mean_fpr, mean_tpr, color='b',\n",
    "             label=r'Mean ROC (AUC = %0.2f $\\pm$ %0.2f)' % (mean_auc, std_auc),\n",
    "             lw=2, alpha=.8)\n",
    "\n",
    "    std_tpr = np.std(tprs, axis=0)\n",
    "    tprs_upper = np.minimum(mean_tpr + std_tpr, 1)\n",
    "    tprs_lower = np.maximum(mean_tpr - std_tpr, 0)\n",
    "    ax1.fill_between(mean_fpr, tprs_lower, tprs_upper, color='grey', alpha=.2,\n",
    "                     label=r'$\\pm$ 1 std. dev.')\n",
    "\n",
    "    ax1.set_xlim([-0.05, 1.05])\n",
    "    ax1.set_ylim([-0.05, 1.05])\n",
    "    ax1.set_xlabel('False Positive Rate')\n",
    "    ax1.set_ylabel('True Positive Rate')\n",
    "    ax1.set_title('Receiver operating characteristic of '+ title)\n",
    "    ax1.legend(loc=\"lower right\")\n",
    "    \n",
    "    \n",
    "    # In matplotlib < 1.5, plt.fill_between does not have a 'step' argument\n",
    "    step_kwargs = ({'step': 'post'}\n",
    "               if 'step' in signature(plt.fill_between).parameters\n",
    "               else {})\n",
    "    ax2.step(recall, precision, color='b', alpha=0.2, where='post')\n",
    "    ax2.fill_between(recall, precision, alpha=0.2, color='b', **step_kwargs)\n",
    "    ax2.set_xlabel('Recall')\n",
    "    ax2.set_ylabel('Precision')\n",
    "    ax2.set_ylim([0.0, 1.05])\n",
    "    ax2.set_xlim([0.0, 1.0])\n",
    "    ax2.set_title('2-class Precision-Recall curve: AP={0:0.2f}'.format(average_precision))\n",
    "    \n",
    "    image_name = './images/' + datasets + '_' + title + '.png'\n",
    "    fig.savefig(image_name, dpi=300)\n",
    "    \n",
    "    return aucs"
   ]
  },
  {
   "cell_type": "code",
   "execution_count": null,
   "metadata": {},
   "outputs": [],
   "source": [
    "auc_ori = compute_roc(X, y, title='original')\n",
    "\n",
    "res_X, res_y = SMOTE(ratio = 1.0).fit_sample(X, y)\n",
    "auc_sm = compute_roc(res_X, res_y, title='SMOTE')\n",
    "\n",
    "res_X, res_y = ADASYN(ratio = 1.0).fit_sample(X, y)\n",
    "auc_ada = compute_roc(res_X, res_y, title='ADASYM')\n",
    "\n",
    "res_X, res_y = ClusterCentroids(random_state=0).fit_sample(X, y)\n",
    "auc_cc = compute_roc(res_X, res_y, title='ClusterCentroids')\n",
    "\n",
    "res_X, res_y = NearMiss(random_state=0).fit_sample(X, y)\n",
    "auc_nm = compute_roc(res_X, res_y, title='NearMiss')"
   ]
  },
  {
   "cell_type": "code",
   "execution_count": null,
   "metadata": {},
   "outputs": [],
   "source": [
    "u, p_value = mannwhitneyu(auc_ori, auc_sm)\n",
    "print (\"two-sample wilcoxon-test\", p_value)\n",
    "\n",
    "u, p_value = mannwhitneyu(auc_ori, auc_ada)\n",
    "print (\"two-sample wilcoxon-test\", p_value)\n",
    "\n",
    "u, p_value = mannwhitneyu(auc_ori, auc_cc)\n",
    "print (\"two-sample wilcoxon-test\", p_value)\n",
    "\n",
    "u, p_value = mannwhitneyu(auc_ori, auc_nm)\n",
    "print (\"two-sample wilcoxon-test\", p_value)"
   ]
  },
  {
   "cell_type": "code",
   "execution_count": null,
   "metadata": {},
   "outputs": [],
   "source": [
    "y_pred = clf_binary.fit(X, y).predict_proba(X)\n",
    "\n",
    "res_X, res_y = SMOTE(ratio = 1.0).fit_sample(X, y)\n",
    "y_pred_res = clf_binary.fit(res_X, res_y).predict_proba(X)"
   ]
  },
  {
   "cell_type": "code",
   "execution_count": null,
   "metadata": {},
   "outputs": [],
   "source": [
    "temp_pd = ncu_ets\n",
    "temp_pd['original'] = y_pred[:, 1].round()\n",
    "temp_pd['smote'] = y_pred_res[:, 1].round()\n",
    "temp_pd.head(5)"
   ]
  },
  {
   "cell_type": "code",
   "execution_count": null,
   "metadata": {},
   "outputs": [],
   "source": [
    "origin_pd = temp_pd.ix[(temp_pd['class']==True) & (temp_pd['original'] == 0.0) & (temp_pd['smote'] == 0.0)]\n",
    "smote_pd = temp_pd.ix[(temp_pd['class']==True) & (temp_pd['original'] == 0.0) & (temp_pd['smote'] == 1.0)]"
   ]
  },
  {
   "cell_type": "code",
   "execution_count": null,
   "metadata": {},
   "outputs": [],
   "source": [
    "plt.figure(figsize=(15, 15))\n",
    "ax = origin_pd.hist(alpha=0.8, bins=15, figsize=(15, 10))\n",
    "\n",
    "for array in ax:\n",
    "    for subplot in array:\n",
    "        subplot.set_ylabel('# of Students')\n",
    "        subplot.set_xlabel('Count')\n",
    "\n",
    "plt.tight_layout()\n",
    "image_name = './images/' + datasets + '_' + 'fc_original' + '.png'\n",
    "plt.savefig(image_name, dpi=300)"
   ]
  },
  {
   "cell_type": "code",
   "execution_count": null,
   "metadata": {},
   "outputs": [],
   "source": [
    "plt.figure(figsize=(15, 15))\n",
    "ax = smote_pd.hist(alpha=0.8, bins=15, figsize=(15, 10))\n",
    "\n",
    "for array in ax:\n",
    "    for subplot in array:\n",
    "        subplot.set_ylabel('# of Students')\n",
    "        subplot.set_xlabel('Count')\n",
    "\n",
    "plt.tight_layout()\n",
    "image_name = './images/' + datasets + '_' + 'fc_smote' + '.png'\n",
    "plt.savefig(image_name, dpi=300)"
   ]
  },
  {
   "cell_type": "code",
   "execution_count": null,
   "metadata": {},
   "outputs": [],
   "source": []
  }
 ],
 "metadata": {
  "kernelspec": {
   "display_name": "Python 3",
   "language": "python",
   "name": "python3"
  },
  "language_info": {
   "codemirror_mode": {
    "name": "ipython",
    "version": 3
   },
   "file_extension": ".py",
   "mimetype": "text/x-python",
   "name": "python",
   "nbconvert_exporter": "python",
   "pygments_lexer": "ipython3",
   "version": "3.4.3"
  }
 },
 "nbformat": 4,
 "nbformat_minor": 2
}
