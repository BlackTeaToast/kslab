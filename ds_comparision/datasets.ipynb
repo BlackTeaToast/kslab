{
 "cells": [
  {
   "cell_type": "code",
   "execution_count": 1,
   "metadata": {},
   "outputs": [],
   "source": [
    "#!pip install imblearn\n",
    "import warnings\n",
    "warnings.filterwarnings('ignore')"
   ]
  },
  {
   "cell_type": "code",
   "execution_count": 2,
   "metadata": {},
   "outputs": [],
   "source": [
    "import pandas as pd\n",
    "from pandas.io.json import json_normalize\n",
    "from pymongo import MongoClient\n",
    "import matplotlib\n",
    "import matplotlib.mlab as mlab\n",
    "import matplotlib.pyplot as plt\n",
    "from scipy.stats import kurtosis\n",
    "from scipy.stats import skew\n",
    "from scipy import stats  \n",
    "import numpy as np\n",
    "from sklearn.cluster import KMeans\n",
    "from scipy.spatial.distance import cdist\n",
    "import json\n",
    "from bson.json_util import dumps\n",
    "import urllib.parse"
   ]
  },
  {
   "cell_type": "code",
   "execution_count": 3,
   "metadata": {
    "scrolled": false
   },
   "outputs": [
    {
     "data": {
      "text/plain": [
       "['1071_Common_English',\n",
       " 'AU',\n",
       " 'CYCU_1031SP',\n",
       " 'CYCU_1032OS',\n",
       " 'CYCU_1041SP',\n",
       " 'CYCU_1042OS',\n",
       " 'CYCU_1051SP',\n",
       " 'CYCU_1052OS',\n",
       " 'KU',\n",
       " 'KU_dataset_1',\n",
       " 'KU_dataset_2',\n",
       " 'KyoU',\n",
       " 'NCU_1071MATH',\n",
       " 'NCU_CHKA',\n",
       " 'NCU_CHKB',\n",
       " 'NCU_CL',\n",
       " 'NCU_ETS',\n",
       " 'NCU_FC',\n",
       " 'NCUx107_Pre_college_calculas',\n",
       " 'OULAD',\n",
       " 'Warn',\n",
       " 'admin',\n",
       " 'config',\n",
       " 'local']"
      ]
     },
     "execution_count": 3,
     "metadata": {},
     "output_type": "execute_result"
    }
   ],
   "source": [
    "MONGODB_HOST = pd.read_csv('./database/auth')['host'][0]\n",
    "username = urllib.parse.quote_plus(pd.read_csv('./database/auth')['username'][0])\n",
    "password = urllib.parse.quote_plus(pd.read_csv('./database/auth')['password'][0])\n",
    "conn = MongoClient('mongodb://%s:%s@%s' % (username, password, MONGODB_HOST))\n",
    "\n",
    "conn.database_names()"
   ]
  },
  {
   "cell_type": "markdown",
   "metadata": {},
   "source": [
    "# NCUx"
   ]
  },
  {
   "cell_type": "markdown",
   "metadata": {},
   "source": [
    "### NCUx - Freshman calculas"
   ]
  },
  {
   "cell_type": "code",
   "execution_count": 4,
   "metadata": {},
   "outputs": [
    {
     "data": {
      "text/html": [
       "<div>\n",
       "<style scoped>\n",
       "    .dataframe tbody tr th:only-of-type {\n",
       "        vertical-align: middle;\n",
       "    }\n",
       "\n",
       "    .dataframe tbody tr th {\n",
       "        vertical-align: top;\n",
       "    }\n",
       "\n",
       "    .dataframe thead th {\n",
       "        text-align: right;\n",
       "    }\n",
       "</style>\n",
       "<table border=\"1\" class=\"dataframe\">\n",
       "  <thead>\n",
       "    <tr style=\"text-align: right;\">\n",
       "      <th></th>\n",
       "      <th>_id</th>\n",
       "      <th>final_score</th>\n",
       "      <th>username</th>\n",
       "    </tr>\n",
       "  </thead>\n",
       "  <tbody>\n",
       "    <tr>\n",
       "      <th>0</th>\n",
       "      <td>5bcf3bab4c5abe7ed0740962</td>\n",
       "      <td>24.5</td>\n",
       "      <td>104602004</td>\n",
       "    </tr>\n",
       "    <tr>\n",
       "      <th>1</th>\n",
       "      <td>5bcf3bab4c5abe7ed0740963</td>\n",
       "      <td>47.15</td>\n",
       "      <td>103602527</td>\n",
       "    </tr>\n",
       "    <tr>\n",
       "      <th>2</th>\n",
       "      <td>5bcf3bab4c5abe7ed0740964</td>\n",
       "      <td>74.12</td>\n",
       "      <td>104602005</td>\n",
       "    </tr>\n",
       "  </tbody>\n",
       "</table>\n",
       "</div>"
      ],
      "text/plain": [
       "                        _id final_score   username\n",
       "0  5bcf3bab4c5abe7ed0740962        24.5  104602004\n",
       "1  5bcf3bab4c5abe7ed0740963       47.15  103602527\n",
       "2  5bcf3bab4c5abe7ed0740964       74.12  104602005"
      ]
     },
     "execution_count": 4,
     "metadata": {},
     "output_type": "execute_result"
    }
   ],
   "source": [
    "db = conn['NCU_ETS']\n",
    "collection = db['ets_final_score']\n",
    "df = pd.DataFrame(list(collection.find()))\n",
    "df.head(3)"
   ]
  },
  {
   "cell_type": "code",
   "execution_count": 5,
   "metadata": {},
   "outputs": [],
   "source": [
    "score_df = df['final_score']\n",
    "score_df = score_df.dropna()\n",
    "score_df = score_df.astype(float)\n",
    "ncux_fc = score_df.astype(int)"
   ]
  },
  {
   "cell_type": "markdown",
   "metadata": {},
   "source": [
    "### NCUx - chka"
   ]
  },
  {
   "cell_type": "code",
   "execution_count": 6,
   "metadata": {},
   "outputs": [
    {
     "data": {
      "text/html": [
       "<div>\n",
       "<style scoped>\n",
       "    .dataframe tbody tr th:only-of-type {\n",
       "        vertical-align: middle;\n",
       "    }\n",
       "\n",
       "    .dataframe tbody tr th {\n",
       "        vertical-align: top;\n",
       "    }\n",
       "\n",
       "    .dataframe thead th {\n",
       "        text-align: right;\n",
       "    }\n",
       "</style>\n",
       "<table border=\"1\" class=\"dataframe\">\n",
       "  <thead>\n",
       "    <tr style=\"text-align: right;\">\n",
       "      <th></th>\n",
       "      <th>_id</th>\n",
       "      <th>final_score</th>\n",
       "      <th>username</th>\n",
       "    </tr>\n",
       "  </thead>\n",
       "  <tbody>\n",
       "    <tr>\n",
       "      <th>0</th>\n",
       "      <td>5bcf3ba94c5abe7ed073fc35</td>\n",
       "      <td>20</td>\n",
       "      <td>Y1050166</td>\n",
       "    </tr>\n",
       "    <tr>\n",
       "      <th>1</th>\n",
       "      <td>5bcf3ba94c5abe7ed073fc36</td>\n",
       "      <td>30</td>\n",
       "      <td>Y1050167</td>\n",
       "    </tr>\n",
       "    <tr>\n",
       "      <th>2</th>\n",
       "      <td>5bcf3ba94c5abe7ed073fc37</td>\n",
       "      <td>10</td>\n",
       "      <td>Y1050168</td>\n",
       "    </tr>\n",
       "  </tbody>\n",
       "</table>\n",
       "</div>"
      ],
      "text/plain": [
       "                        _id final_score  username\n",
       "0  5bcf3ba94c5abe7ed073fc35          20  Y1050166\n",
       "1  5bcf3ba94c5abe7ed073fc36          30  Y1050167\n",
       "2  5bcf3ba94c5abe7ed073fc37          10  Y1050168"
      ]
     },
     "execution_count": 6,
     "metadata": {},
     "output_type": "execute_result"
    }
   ],
   "source": [
    "db = conn['NCU_CHKA']\n",
    "collection = db['chka_final_score']\n",
    "df = pd.DataFrame(list(collection.find()))\n",
    "df.head(3)"
   ]
  },
  {
   "cell_type": "code",
   "execution_count": 7,
   "metadata": {},
   "outputs": [],
   "source": [
    "score_df = df['final_score']\n",
    "score_df = score_df.dropna()\n",
    "score_df = score_df.astype(float)\n",
    "ncux_chka = score_df.astype(int)"
   ]
  },
  {
   "cell_type": "markdown",
   "metadata": {},
   "source": [
    "### NCUx - chkb"
   ]
  },
  {
   "cell_type": "code",
   "execution_count": 8,
   "metadata": {},
   "outputs": [
    {
     "data": {
      "text/html": [
       "<div>\n",
       "<style scoped>\n",
       "    .dataframe tbody tr th:only-of-type {\n",
       "        vertical-align: middle;\n",
       "    }\n",
       "\n",
       "    .dataframe tbody tr th {\n",
       "        vertical-align: top;\n",
       "    }\n",
       "\n",
       "    .dataframe thead th {\n",
       "        text-align: right;\n",
       "    }\n",
       "</style>\n",
       "<table border=\"1\" class=\"dataframe\">\n",
       "  <thead>\n",
       "    <tr style=\"text-align: right;\">\n",
       "      <th></th>\n",
       "      <th>_id</th>\n",
       "      <th>final_score</th>\n",
       "      <th>username</th>\n",
       "    </tr>\n",
       "  </thead>\n",
       "  <tbody>\n",
       "    <tr>\n",
       "      <th>0</th>\n",
       "      <td>5bcf3baa4c5abe7ed0740358</td>\n",
       "      <td>10</td>\n",
       "      <td>Y1050281</td>\n",
       "    </tr>\n",
       "    <tr>\n",
       "      <th>1</th>\n",
       "      <td>5bcf3baa4c5abe7ed0740359</td>\n",
       "      <td>10</td>\n",
       "      <td>Y1050280</td>\n",
       "    </tr>\n",
       "    <tr>\n",
       "      <th>2</th>\n",
       "      <td>5bcf3baa4c5abe7ed074035a</td>\n",
       "      <td>10</td>\n",
       "      <td>Y1050282</td>\n",
       "    </tr>\n",
       "  </tbody>\n",
       "</table>\n",
       "</div>"
      ],
      "text/plain": [
       "                        _id final_score  username\n",
       "0  5bcf3baa4c5abe7ed0740358          10  Y1050281\n",
       "1  5bcf3baa4c5abe7ed0740359          10  Y1050280\n",
       "2  5bcf3baa4c5abe7ed074035a          10  Y1050282"
      ]
     },
     "execution_count": 8,
     "metadata": {},
     "output_type": "execute_result"
    }
   ],
   "source": [
    "db = conn['NCU_CHKB']\n",
    "collection = db['chkb_final_score']\n",
    "df = pd.DataFrame(list(collection.find()))\n",
    "df.head(3)"
   ]
  },
  {
   "cell_type": "code",
   "execution_count": 9,
   "metadata": {},
   "outputs": [],
   "source": [
    "score_df = df['final_score']\n",
    "score_df = score_df.dropna()\n",
    "score_df = score_df.astype(float)\n",
    "ncux_chkb = score_df.astype(int)"
   ]
  },
  {
   "cell_type": "markdown",
   "metadata": {},
   "source": [
    "### NCUx107_Pre_college_calculas"
   ]
  },
  {
   "cell_type": "code",
   "execution_count": 10,
   "metadata": {},
   "outputs": [],
   "source": [
    "def flatten(row):\n",
    "    for grade in row['grades']:\n",
    "        row[grade['name']] = grade['score']\n",
    "    return row\n"
   ]
  },
  {
   "cell_type": "code",
   "execution_count": 11,
   "metadata": {
    "scrolled": false
   },
   "outputs": [],
   "source": [
    "db = conn['NCUx107_Pre_college_calculas']\n",
    "collection = db['students_grades']\n",
    "\n",
    "#collection_str = dumps(collection.find())\n",
    "#collection_str = ''.join(collection_list)\n",
    "#data = json.loads(collection_str)\n",
    "#df = pd.read_json(data)\n",
    "#json_normalize(data)\n",
    "df = pd.DataFrame(list(collection.find()))\n",
    "#df = df['grades'].to_frame()\n",
    "#collection_list\n",
    "df = df.apply(flatten, axis=1)\n",
    "df = df.drop('grades', axis=1)\n"
   ]
  },
  {
   "cell_type": "code",
   "execution_count": 12,
   "metadata": {},
   "outputs": [],
   "source": [
    "score_df = df['期末考']\n",
    "score_df = score_df.dropna()\n",
    "score_df = score_df.astype(float)\n",
    "ncux_pre = score_df.astype(int)"
   ]
  },
  {
   "cell_type": "markdown",
   "metadata": {},
   "source": [
    "### NCU_1071CL"
   ]
  },
  {
   "cell_type": "code",
   "execution_count": 13,
   "metadata": {},
   "outputs": [
    {
     "data": {
      "text/plain": [
       "['NCU_107_1_CL_control_grade', 'NCU_107_1_w1-9_CL']"
      ]
     },
     "execution_count": 13,
     "metadata": {},
     "output_type": "execute_result"
    }
   ],
   "source": [
    "db = conn['NCU_CL']\n",
    "#db = conn[datasets]\n",
    "db.collection_names()"
   ]
  },
  {
   "cell_type": "code",
   "execution_count": 14,
   "metadata": {},
   "outputs": [
    {
     "data": {
      "text/html": [
       "<div>\n",
       "<style scoped>\n",
       "    .dataframe tbody tr th:only-of-type {\n",
       "        vertical-align: middle;\n",
       "    }\n",
       "\n",
       "    .dataframe tbody tr th {\n",
       "        vertical-align: top;\n",
       "    }\n",
       "\n",
       "    .dataframe thead th {\n",
       "        text-align: right;\n",
       "    }\n",
       "</style>\n",
       "<table border=\"1\" class=\"dataframe\">\n",
       "  <thead>\n",
       "    <tr style=\"text-align: right;\">\n",
       "      <th></th>\n",
       "      <th>Userid</th>\n",
       "      <th>_id</th>\n",
       "      <th>log_score</th>\n",
       "      <th>midterm_score</th>\n",
       "      <th>name</th>\n",
       "      <th>pre_score</th>\n",
       "      <th>re_score</th>\n",
       "    </tr>\n",
       "  </thead>\n",
       "  <tbody>\n",
       "    <tr>\n",
       "      <th>0</th>\n",
       "      <td>brstudent06</td>\n",
       "      <td>5bf3cd398b71f0dab56e8051</td>\n",
       "      <td>77</td>\n",
       "      <td>75</td>\n",
       "      <td>李鴻怡</td>\n",
       "      <td>5.0</td>\n",
       "      <td>5.0</td>\n",
       "    </tr>\n",
       "    <tr>\n",
       "      <th>1</th>\n",
       "      <td>brstudent11</td>\n",
       "      <td>5bf3cd398b71f0dab56e8052</td>\n",
       "      <td>88</td>\n",
       "      <td>86</td>\n",
       "      <td>劉晏誠</td>\n",
       "      <td>8.2</td>\n",
       "      <td>8.1</td>\n",
       "    </tr>\n",
       "    <tr>\n",
       "      <th>2</th>\n",
       "      <td>brstudent12</td>\n",
       "      <td>5bf3cd398b71f0dab56e8053</td>\n",
       "      <td>80</td>\n",
       "      <td>95</td>\n",
       "      <td>郭哲煜</td>\n",
       "      <td>6.8</td>\n",
       "      <td>6.0</td>\n",
       "    </tr>\n",
       "  </tbody>\n",
       "</table>\n",
       "</div>"
      ],
      "text/plain": [
       "        Userid                       _id  log_score  midterm_score name  \\\n",
       "0  brstudent06  5bf3cd398b71f0dab56e8051         77             75  李鴻怡   \n",
       "1  brstudent11  5bf3cd398b71f0dab56e8052         88             86  劉晏誠   \n",
       "2  brstudent12  5bf3cd398b71f0dab56e8053         80             95  郭哲煜   \n",
       "\n",
       "   pre_score  re_score  \n",
       "0        5.0       5.0  \n",
       "1        8.2       8.1  \n",
       "2        6.8       6.0  "
      ]
     },
     "execution_count": 14,
     "metadata": {},
     "output_type": "execute_result"
    }
   ],
   "source": [
    "collection = db['NCU_107_1_CL_control_grade']\n",
    "df = pd.DataFrame(list(collection.find()))\n",
    "df.head(3)"
   ]
  },
  {
   "cell_type": "code",
   "execution_count": 15,
   "metadata": {
    "scrolled": false
   },
   "outputs": [
    {
     "data": {
      "text/plain": [
       "0      39.423077\n",
       "1      71.153846\n",
       "2      97.115385\n",
       "3      36.538462\n",
       "4      27.884615\n",
       "5      25.000000\n",
       "6      85.576923\n",
       "7     100.000000\n",
       "8      79.807692\n",
       "9      82.692308\n",
       "10     45.192308\n",
       "11     42.307692\n",
       "12     85.576923\n",
       "13     48.076923\n",
       "14     62.500000\n",
       "15     45.192308\n",
       "16    100.000000\n",
       "17     42.307692\n",
       "18     30.769231\n",
       "19     65.384615\n",
       "20     33.653846\n",
       "Name: midterm_score, dtype: float64"
      ]
     },
     "execution_count": 15,
     "metadata": {},
     "output_type": "execute_result"
    }
   ],
   "source": [
    "score_df = df['midterm_score']\n",
    "score_df = score_df.dropna()\n",
    "score_df = score_df.astype(float)\n",
    "\n",
    "#score_df = (score_df - score_df.mean()) / (100 - 10)\n",
    "\n",
    "ncux_cl = score_df.astype(int)\n",
    "\n",
    "#ncux_cl = (ncux_cl - ncux_cl.min()) / (ncux_cl.max() - ncux_cl.min())\n",
    "up_bound = 100\n",
    "low_bound = 25\n",
    "ncux_cl = low_bound + (ncux_cl-ncux_cl.min())*(up_bound-low_bound)/(ncux_cl.max()-ncux_cl.min())\n",
    "\n",
    "ncux_cl"
   ]
  },
  {
   "cell_type": "markdown",
   "metadata": {},
   "source": [
    "# CYCU"
   ]
  },
  {
   "cell_type": "markdown",
   "metadata": {},
   "source": [
    "### CYCU_1031SP"
   ]
  },
  {
   "cell_type": "code",
   "execution_count": 16,
   "metadata": {},
   "outputs": [
    {
     "data": {
      "text/plain": [
       "['MOOCs',\n",
       " '_id',\n",
       " '上課問答',\n",
       " '加分小考',\n",
       " '協作額外上機',\n",
       " '原始總分',\n",
       " '姓名',\n",
       " '學號',\n",
       " '小考一',\n",
       " '小考二',\n",
       " '最終成績',\n",
       " '有完成遊戲',\n",
       " '期中考',\n",
       " '期末考',\n",
       " '班級',\n",
       " '程式一',\n",
       " '程式三',\n",
       " '程式二',\n",
       " '線上成績',\n",
       " '線上表現']"
      ]
     },
     "execution_count": 16,
     "metadata": {},
     "output_type": "execute_result"
    }
   ],
   "source": [
    "db = conn['CYCU_1031SP']\n",
    "collection = db['1031bSP2']\n",
    "df = pd.DataFrame(list(collection.find()))\n",
    "list(df)"
   ]
  },
  {
   "cell_type": "code",
   "execution_count": 17,
   "metadata": {},
   "outputs": [],
   "source": [
    "score_df = df['最終成績']\n",
    "score_df = score_df.dropna()\n",
    "score_df = score_df.astype(float)\n",
    "cycu_1031sp = score_df.astype(int)"
   ]
  },
  {
   "cell_type": "markdown",
   "metadata": {},
   "source": [
    "### CYCU 1041SP"
   ]
  },
  {
   "cell_type": "code",
   "execution_count": 18,
   "metadata": {},
   "outputs": [
    {
     "data": {
      "text/html": [
       "<div>\n",
       "<style scoped>\n",
       "    .dataframe tbody tr th:only-of-type {\n",
       "        vertical-align: middle;\n",
       "    }\n",
       "\n",
       "    .dataframe tbody tr th {\n",
       "        vertical-align: top;\n",
       "    }\n",
       "\n",
       "    .dataframe thead th {\n",
       "        text-align: right;\n",
       "    }\n",
       "</style>\n",
       "<table border=\"1\" class=\"dataframe\">\n",
       "  <thead>\n",
       "    <tr style=\"text-align: right;\">\n",
       "      <th></th>\n",
       "      <th>MOOCs修課及格</th>\n",
       "      <th>Unnamed: 16</th>\n",
       "      <th>Unnamed: 17</th>\n",
       "      <th>Unnamed: 18</th>\n",
       "      <th>Unnamed: 19</th>\n",
       "      <th>Unnamed: 20</th>\n",
       "      <th>Unnamed: 21</th>\n",
       "      <th>Unnamed: 22</th>\n",
       "      <th>Unnamed: 23</th>\n",
       "      <th>Unnamed: 24</th>\n",
       "      <th>...</th>\n",
       "      <th>小考一</th>\n",
       "      <th>小考二</th>\n",
       "      <th>最終成績</th>\n",
       "      <th>期中考</th>\n",
       "      <th>期末考</th>\n",
       "      <th>程式一</th>\n",
       "      <th>程式三</th>\n",
       "      <th>程式二</th>\n",
       "      <th>線上成績</th>\n",
       "      <th>線上表現</th>\n",
       "    </tr>\n",
       "  </thead>\n",
       "  <tbody>\n",
       "    <tr>\n",
       "      <th>0</th>\n",
       "      <td>None</td>\n",
       "      <td>None</td>\n",
       "      <td>None</td>\n",
       "      <td>None</td>\n",
       "      <td>None</td>\n",
       "      <td>None</td>\n",
       "      <td>None</td>\n",
       "      <td>None</td>\n",
       "      <td>None</td>\n",
       "      <td>None</td>\n",
       "      <td>...</td>\n",
       "      <td>48</td>\n",
       "      <td>50</td>\n",
       "      <td>42</td>\n",
       "      <td>35</td>\n",
       "      <td>30</td>\n",
       "      <td>74</td>\n",
       "      <td>0</td>\n",
       "      <td>0</td>\n",
       "      <td>23.469388</td>\n",
       "      <td>52.24</td>\n",
       "    </tr>\n",
       "    <tr>\n",
       "      <th>1</th>\n",
       "      <td>None</td>\n",
       "      <td>None</td>\n",
       "      <td>None</td>\n",
       "      <td>None</td>\n",
       "      <td>None</td>\n",
       "      <td>None</td>\n",
       "      <td>None</td>\n",
       "      <td>None</td>\n",
       "      <td>None</td>\n",
       "      <td>None</td>\n",
       "      <td>...</td>\n",
       "      <td>88</td>\n",
       "      <td>53</td>\n",
       "      <td>40</td>\n",
       "      <td>15</td>\n",
       "      <td>28</td>\n",
       "      <td>97</td>\n",
       "      <td>0</td>\n",
       "      <td>0</td>\n",
       "      <td>22.448980</td>\n",
       "      <td>70.21</td>\n",
       "    </tr>\n",
       "    <tr>\n",
       "      <th>2</th>\n",
       "      <td>None</td>\n",
       "      <td>None</td>\n",
       "      <td>None</td>\n",
       "      <td>None</td>\n",
       "      <td>None</td>\n",
       "      <td>None</td>\n",
       "      <td>None</td>\n",
       "      <td>None</td>\n",
       "      <td>None</td>\n",
       "      <td>None</td>\n",
       "      <td>...</td>\n",
       "      <td>56</td>\n",
       "      <td>59</td>\n",
       "      <td>40</td>\n",
       "      <td>18</td>\n",
       "      <td>25</td>\n",
       "      <td>94</td>\n",
       "      <td>0</td>\n",
       "      <td>0</td>\n",
       "      <td>31.836735</td>\n",
       "      <td>54.80</td>\n",
       "    </tr>\n",
       "  </tbody>\n",
       "</table>\n",
       "<p>3 rows × 33 columns</p>\n",
       "</div>"
      ],
      "text/plain": [
       "  MOOCs修課及格 Unnamed: 16 Unnamed: 17 Unnamed: 18 Unnamed: 19 Unnamed: 20  \\\n",
       "0      None        None        None        None        None        None   \n",
       "1      None        None        None        None        None        None   \n",
       "2      None        None        None        None        None        None   \n",
       "\n",
       "  Unnamed: 21 Unnamed: 22 Unnamed: 23 Unnamed: 24  ...   小考一 小考二 最終成績 期中考 期末考  \\\n",
       "0        None        None        None        None  ...    48  50   42  35  30   \n",
       "1        None        None        None        None  ...    88  53   40  15  28   \n",
       "2        None        None        None        None  ...    56  59   40  18  25   \n",
       "\n",
       "  程式一 程式三 程式二       線上成績   線上表現  \n",
       "0  74   0   0  23.469388  52.24  \n",
       "1  97   0   0  22.448980  70.21  \n",
       "2  94   0   0  31.836735  54.80  \n",
       "\n",
       "[3 rows x 33 columns]"
      ]
     },
     "execution_count": 18,
     "metadata": {},
     "output_type": "execute_result"
    }
   ],
   "source": [
    "db = conn['CYCU_1041SP']\n",
    "collection = db['1041aSP2']\n",
    "df = pd.DataFrame(list(collection.find()))\n",
    "df.head(3)"
   ]
  },
  {
   "cell_type": "code",
   "execution_count": 19,
   "metadata": {},
   "outputs": [],
   "source": [
    "score_df = df['最終成績']\n",
    "score_df = score_df.dropna()\n",
    "score_df = score_df.astype(float)\n",
    "cycu_1041sp = score_df.astype(int)"
   ]
  },
  {
   "cell_type": "markdown",
   "metadata": {},
   "source": [
    "### CYCU 1051SP"
   ]
  },
  {
   "cell_type": "code",
   "execution_count": 20,
   "metadata": {},
   "outputs": [
    {
     "data": {
      "text/html": [
       "<div>\n",
       "<style scoped>\n",
       "    .dataframe tbody tr th:only-of-type {\n",
       "        vertical-align: middle;\n",
       "    }\n",
       "\n",
       "    .dataframe tbody tr th {\n",
       "        vertical-align: top;\n",
       "    }\n",
       "\n",
       "    .dataframe thead th {\n",
       "        text-align: right;\n",
       "    }\n",
       "</style>\n",
       "<table border=\"1\" class=\"dataframe\">\n",
       "  <thead>\n",
       "    <tr style=\"text-align: right;\">\n",
       "      <th></th>\n",
       "      <th>_id</th>\n",
       "      <th>上機</th>\n",
       "      <th>上課問答</th>\n",
       "      <th>上課題目</th>\n",
       "      <th>原始成績</th>\n",
       "      <th>姓名</th>\n",
       "      <th>學號</th>\n",
       "      <th>小考一</th>\n",
       "      <th>小考二</th>\n",
       "      <th>最終成績</th>\n",
       "      <th>期中考</th>\n",
       "      <th>期末考</th>\n",
       "      <th>程式一</th>\n",
       "      <th>程式三</th>\n",
       "      <th>程式二</th>\n",
       "      <th>線上成績</th>\n",
       "      <th>線上表現</th>\n",
       "    </tr>\n",
       "  </thead>\n",
       "  <tbody>\n",
       "    <tr>\n",
       "      <th>0</th>\n",
       "      <td>5bcf3b974c5abe7ed071b948</td>\n",
       "      <td>0</td>\n",
       "      <td>0</td>\n",
       "      <td>0.0</td>\n",
       "      <td>29.05</td>\n",
       "      <td>7362e23d8d0581fa8f58d5af91c9d7ad</td>\n",
       "      <td>10227118</td>\n",
       "      <td>40</td>\n",
       "      <td>0</td>\n",
       "      <td>30</td>\n",
       "      <td>40</td>\n",
       "      <td>18</td>\n",
       "      <td>0</td>\n",
       "      <td>0</td>\n",
       "      <td>0</td>\n",
       "      <td>35.6</td>\n",
       "      <td>60.879875</td>\n",
       "    </tr>\n",
       "    <tr>\n",
       "      <th>1</th>\n",
       "      <td>5bcf3b974c5abe7ed071b949</td>\n",
       "      <td>0</td>\n",
       "      <td>0</td>\n",
       "      <td>0.0</td>\n",
       "      <td>36.71</td>\n",
       "      <td>ebbf31684e5b8207d3fdebfee396d058</td>\n",
       "      <td>10127135</td>\n",
       "      <td>0</td>\n",
       "      <td>44</td>\n",
       "      <td>37</td>\n",
       "      <td>40</td>\n",
       "      <td>18</td>\n",
       "      <td>98</td>\n",
       "      <td>0</td>\n",
       "      <td>0</td>\n",
       "      <td>16.2</td>\n",
       "      <td>56.897708</td>\n",
       "    </tr>\n",
       "    <tr>\n",
       "      <th>2</th>\n",
       "      <td>5bcf3b974c5abe7ed071b94a</td>\n",
       "      <td>0</td>\n",
       "      <td>0</td>\n",
       "      <td>0.0</td>\n",
       "      <td>19.91</td>\n",
       "      <td>e8c545543171e9d43ad7989be62a6ea8</td>\n",
       "      <td>10220119</td>\n",
       "      <td>0</td>\n",
       "      <td>0</td>\n",
       "      <td>20</td>\n",
       "      <td>35</td>\n",
       "      <td>0</td>\n",
       "      <td>0</td>\n",
       "      <td>0</td>\n",
       "      <td>0</td>\n",
       "      <td>35.8</td>\n",
       "      <td>58.272583</td>\n",
       "    </tr>\n",
       "  </tbody>\n",
       "</table>\n",
       "</div>"
      ],
      "text/plain": [
       "                        _id  上機  上課問答  上課題目   原始成績  \\\n",
       "0  5bcf3b974c5abe7ed071b948   0     0   0.0  29.05   \n",
       "1  5bcf3b974c5abe7ed071b949   0     0   0.0  36.71   \n",
       "2  5bcf3b974c5abe7ed071b94a   0     0   0.0  19.91   \n",
       "\n",
       "                                 姓名        學號  小考一  小考二  最終成績  期中考  期末考  程式一  \\\n",
       "0  7362e23d8d0581fa8f58d5af91c9d7ad  10227118   40    0    30   40   18    0   \n",
       "1  ebbf31684e5b8207d3fdebfee396d058  10127135    0   44    37   40   18   98   \n",
       "2  e8c545543171e9d43ad7989be62a6ea8  10220119    0    0    20   35    0    0   \n",
       "\n",
       "   程式三  程式二  線上成績       線上表現  \n",
       "0    0    0  35.6  60.879875  \n",
       "1    0    0  16.2  56.897708  \n",
       "2    0    0  35.8  58.272583  "
      ]
     },
     "execution_count": 20,
     "metadata": {},
     "output_type": "execute_result"
    }
   ],
   "source": [
    "db = conn['CYCU_1051SP']\n",
    "collection = db['1051aSP2']\n",
    "df = pd.DataFrame(list(collection.find()))\n",
    "df.head(3)"
   ]
  },
  {
   "cell_type": "code",
   "execution_count": 21,
   "metadata": {},
   "outputs": [],
   "source": [
    "score_df = df['最終成績']\n",
    "score_df = score_df.dropna()\n",
    "score_df = score_df.astype(float)\n",
    "cycu_1051sp = score_df.astype(int)"
   ]
  },
  {
   "cell_type": "markdown",
   "metadata": {},
   "source": [
    "### CYCU 1042OS"
   ]
  },
  {
   "cell_type": "code",
   "execution_count": 22,
   "metadata": {},
   "outputs": [
    {
     "data": {
      "text/html": [
       "<div>\n",
       "<style scoped>\n",
       "    .dataframe tbody tr th:only-of-type {\n",
       "        vertical-align: middle;\n",
       "    }\n",
       "\n",
       "    .dataframe tbody tr th {\n",
       "        vertical-align: top;\n",
       "    }\n",
       "\n",
       "    .dataframe thead th {\n",
       "        text-align: right;\n",
       "    }\n",
       "</style>\n",
       "<table border=\"1\" class=\"dataframe\">\n",
       "  <thead>\n",
       "    <tr style=\"text-align: right;\">\n",
       "      <th></th>\n",
       "      <th>MOOCs修課及格</th>\n",
       "      <th>_id</th>\n",
       "      <th>上機次數</th>\n",
       "      <th>上課問答</th>\n",
       "      <th>原始總分</th>\n",
       "      <th>姓名</th>\n",
       "      <th>學號</th>\n",
       "      <th>最終成績</th>\n",
       "      <th>期中考</th>\n",
       "      <th>期末考</th>\n",
       "      <th>第一支程式</th>\n",
       "      <th>第一次小考</th>\n",
       "      <th>第三支程式</th>\n",
       "      <th>第三次小考</th>\n",
       "      <th>第二支程式</th>\n",
       "      <th>第二次小考</th>\n",
       "      <th>第四次小考</th>\n",
       "      <th>線上成績</th>\n",
       "      <th>線上表現</th>\n",
       "    </tr>\n",
       "  </thead>\n",
       "  <tbody>\n",
       "    <tr>\n",
       "      <th>0</th>\n",
       "      <td>None</td>\n",
       "      <td>5bcf3b924c5abe7ed0714d98</td>\n",
       "      <td>0</td>\n",
       "      <td>0</td>\n",
       "      <td>3.45</td>\n",
       "      <td>74fc42234a431bd1b3f5f3b4a957b957</td>\n",
       "      <td>9924137</td>\n",
       "      <td>5</td>\n",
       "      <td>0</td>\n",
       "      <td>0</td>\n",
       "      <td>0</td>\n",
       "      <td>40</td>\n",
       "      <td>0</td>\n",
       "      <td>0</td>\n",
       "      <td>0</td>\n",
       "      <td>29</td>\n",
       "      <td>0</td>\n",
       "      <td>19.0</td>\n",
       "      <td>0.00</td>\n",
       "    </tr>\n",
       "    <tr>\n",
       "      <th>1</th>\n",
       "      <td>None</td>\n",
       "      <td>5bcf3b924c5abe7ed0714d99</td>\n",
       "      <td>2</td>\n",
       "      <td>100</td>\n",
       "      <td>51.25</td>\n",
       "      <td>2c7991b68d432a726b059ab16020a6e1</td>\n",
       "      <td>10115240</td>\n",
       "      <td>75</td>\n",
       "      <td>88</td>\n",
       "      <td>20</td>\n",
       "      <td>98</td>\n",
       "      <td>92</td>\n",
       "      <td>0</td>\n",
       "      <td>85</td>\n",
       "      <td>0</td>\n",
       "      <td>89</td>\n",
       "      <td>56</td>\n",
       "      <td>86.8</td>\n",
       "      <td>87.00</td>\n",
       "    </tr>\n",
       "    <tr>\n",
       "      <th>2</th>\n",
       "      <td>None</td>\n",
       "      <td>5bcf3b924c5abe7ed0714d9a</td>\n",
       "      <td>2</td>\n",
       "      <td>100</td>\n",
       "      <td>56.10</td>\n",
       "      <td>fc8e80b9b11f98190c6af391238706c1</td>\n",
       "      <td>10220127</td>\n",
       "      <td>74</td>\n",
       "      <td>60</td>\n",
       "      <td>40</td>\n",
       "      <td>98</td>\n",
       "      <td>72</td>\n",
       "      <td>0</td>\n",
       "      <td>58</td>\n",
       "      <td>89</td>\n",
       "      <td>76</td>\n",
       "      <td>36</td>\n",
       "      <td>44.6</td>\n",
       "      <td>71.76</td>\n",
       "    </tr>\n",
       "  </tbody>\n",
       "</table>\n",
       "</div>"
      ],
      "text/plain": [
       "  MOOCs修課及格                       _id  上機次數  上課問答   原始總分  \\\n",
       "0      None  5bcf3b924c5abe7ed0714d98     0     0   3.45   \n",
       "1      None  5bcf3b924c5abe7ed0714d99     2   100  51.25   \n",
       "2      None  5bcf3b924c5abe7ed0714d9a     2   100  56.10   \n",
       "\n",
       "                                 姓名        學號  最終成績  期中考  期末考  第一支程式  第一次小考  \\\n",
       "0  74fc42234a431bd1b3f5f3b4a957b957   9924137     5    0    0      0     40   \n",
       "1  2c7991b68d432a726b059ab16020a6e1  10115240    75   88   20     98     92   \n",
       "2  fc8e80b9b11f98190c6af391238706c1  10220127    74   60   40     98     72   \n",
       "\n",
       "   第三支程式  第三次小考  第二支程式  第二次小考  第四次小考  線上成績   線上表現  \n",
       "0      0      0      0     29      0  19.0   0.00  \n",
       "1      0     85      0     89     56  86.8  87.00  \n",
       "2      0     58     89     76     36  44.6  71.76  "
      ]
     },
     "execution_count": 22,
     "metadata": {},
     "output_type": "execute_result"
    }
   ],
   "source": [
    "db = conn['CYCU_1042OS']\n",
    "collection = db['1042aOS2']\n",
    "df = pd.DataFrame(list(collection.find()))\n",
    "df.head(3)"
   ]
  },
  {
   "cell_type": "code",
   "execution_count": 23,
   "metadata": {},
   "outputs": [],
   "source": [
    "score_df = df['最終成績']\n",
    "score_df = score_df.dropna()\n",
    "score_df = score_df.astype(float)\n",
    "cycu_1042os = score_df.astype(int)"
   ]
  },
  {
   "cell_type": "markdown",
   "metadata": {},
   "source": [
    "### CYCU 1052OS"
   ]
  },
  {
   "cell_type": "code",
   "execution_count": 24,
   "metadata": {},
   "outputs": [
    {
     "data": {
      "text/html": [
       "<div>\n",
       "<style scoped>\n",
       "    .dataframe tbody tr th:only-of-type {\n",
       "        vertical-align: middle;\n",
       "    }\n",
       "\n",
       "    .dataframe tbody tr th {\n",
       "        vertical-align: top;\n",
       "    }\n",
       "\n",
       "    .dataframe thead th {\n",
       "        text-align: right;\n",
       "    }\n",
       "</style>\n",
       "<table border=\"1\" class=\"dataframe\">\n",
       "  <thead>\n",
       "    <tr style=\"text-align: right;\">\n",
       "      <th></th>\n",
       "      <th>_id</th>\n",
       "      <th>上課問答</th>\n",
       "      <th>原始分數</th>\n",
       "      <th>原始總分</th>\n",
       "      <th>姓名</th>\n",
       "      <th>學號</th>\n",
       "      <th>最終成績</th>\n",
       "      <th>期中考</th>\n",
       "      <th>期末考</th>\n",
       "      <th>第一支程式</th>\n",
       "      <th>第一次小考</th>\n",
       "      <th>第三支程式</th>\n",
       "      <th>第三次小考</th>\n",
       "      <th>第二支程式</th>\n",
       "      <th>第二次小考</th>\n",
       "      <th>第五次小考</th>\n",
       "      <th>第四次小考</th>\n",
       "      <th>線上作業測驗</th>\n",
       "      <th>線上表現</th>\n",
       "      <th>課堂練習</th>\n",
       "    </tr>\n",
       "  </thead>\n",
       "  <tbody>\n",
       "    <tr>\n",
       "      <th>0</th>\n",
       "      <td>5bcf3b9d4c5abe7ed0724022</td>\n",
       "      <td>40</td>\n",
       "      <td>80.65</td>\n",
       "      <td>56.10</td>\n",
       "      <td>497f673346e3e7c2aeac784418744c10</td>\n",
       "      <td>10227105</td>\n",
       "      <td>81</td>\n",
       "      <td>55</td>\n",
       "      <td>45.0</td>\n",
       "      <td>88</td>\n",
       "      <td>60</td>\n",
       "      <td>46</td>\n",
       "      <td>80</td>\n",
       "      <td>70</td>\n",
       "      <td>54</td>\n",
       "      <td>60</td>\n",
       "      <td>64</td>\n",
       "      <td>91.52</td>\n",
       "      <td>65.301389</td>\n",
       "      <td>58.3</td>\n",
       "    </tr>\n",
       "    <tr>\n",
       "      <th>1</th>\n",
       "      <td>5bcf3b9d4c5abe7ed0724023</td>\n",
       "      <td>10</td>\n",
       "      <td>14.79</td>\n",
       "      <td>5.50</td>\n",
       "      <td>6e04e4abf4a5d39ee5667cdb67093d15</td>\n",
       "      <td>10227228</td>\n",
       "      <td>15</td>\n",
       "      <td>10</td>\n",
       "      <td>0.0</td>\n",
       "      <td>0</td>\n",
       "      <td>50</td>\n",
       "      <td>0</td>\n",
       "      <td>0</td>\n",
       "      <td>0</td>\n",
       "      <td>0</td>\n",
       "      <td>52</td>\n",
       "      <td>56</td>\n",
       "      <td>10.00</td>\n",
       "      <td>56.704167</td>\n",
       "      <td>10.0</td>\n",
       "    </tr>\n",
       "    <tr>\n",
       "      <th>2</th>\n",
       "      <td>5bcf3b9d4c5abe7ed0724024</td>\n",
       "      <td>0</td>\n",
       "      <td>61.26</td>\n",
       "      <td>46.05</td>\n",
       "      <td>d16f3be7c1dd6b93dd89097481a03daa</td>\n",
       "      <td>10227232</td>\n",
       "      <td>61</td>\n",
       "      <td>15</td>\n",
       "      <td>23.0</td>\n",
       "      <td>98</td>\n",
       "      <td>40</td>\n",
       "      <td>98</td>\n",
       "      <td>43</td>\n",
       "      <td>98</td>\n",
       "      <td>65</td>\n",
       "      <td>28</td>\n",
       "      <td>44</td>\n",
       "      <td>40.61</td>\n",
       "      <td>78.784201</td>\n",
       "      <td>24.5</td>\n",
       "    </tr>\n",
       "  </tbody>\n",
       "</table>\n",
       "</div>"
      ],
      "text/plain": [
       "                        _id  上課問答   原始分數   原始總分  \\\n",
       "0  5bcf3b9d4c5abe7ed0724022    40  80.65  56.10   \n",
       "1  5bcf3b9d4c5abe7ed0724023    10  14.79   5.50   \n",
       "2  5bcf3b9d4c5abe7ed0724024     0  61.26  46.05   \n",
       "\n",
       "                                 姓名        學號  最終成績  期中考   期末考  第一支程式  第一次小考  \\\n",
       "0  497f673346e3e7c2aeac784418744c10  10227105    81   55  45.0     88     60   \n",
       "1  6e04e4abf4a5d39ee5667cdb67093d15  10227228    15   10   0.0      0     50   \n",
       "2  d16f3be7c1dd6b93dd89097481a03daa  10227232    61   15  23.0     98     40   \n",
       "\n",
       "   第三支程式  第三次小考  第二支程式  第二次小考  第五次小考  第四次小考  線上作業測驗       線上表現  課堂練習  \n",
       "0     46     80     70     54     60     64   91.52  65.301389  58.3  \n",
       "1      0      0      0      0     52     56   10.00  56.704167  10.0  \n",
       "2     98     43     98     65     28     44   40.61  78.784201  24.5  "
      ]
     },
     "execution_count": 24,
     "metadata": {},
     "output_type": "execute_result"
    }
   ],
   "source": [
    "db = conn['CYCU_1052OS']\n",
    "collection = db['1052bOS2']\n",
    "df = pd.DataFrame(list(collection.find()))\n",
    "df.head(3)"
   ]
  },
  {
   "cell_type": "code",
   "execution_count": 25,
   "metadata": {},
   "outputs": [],
   "source": [
    "score_df = df['最終成績']\n",
    "score_df = score_df.dropna()\n",
    "score_df = score_df.astype(float)\n",
    "cycu_1052os = score_df.astype(int)"
   ]
  },
  {
   "cell_type": "markdown",
   "metadata": {},
   "source": [
    "# KU"
   ]
  },
  {
   "cell_type": "markdown",
   "metadata": {},
   "source": [
    "### KU BR01"
   ]
  },
  {
   "cell_type": "code",
   "execution_count": 26,
   "metadata": {},
   "outputs": [
    {
     "data": {
      "text/html": [
       "<div>\n",
       "<style scoped>\n",
       "    .dataframe tbody tr th:only-of-type {\n",
       "        vertical-align: middle;\n",
       "    }\n",
       "\n",
       "    .dataframe tbody tr th {\n",
       "        vertical-align: top;\n",
       "    }\n",
       "\n",
       "    .dataframe thead th {\n",
       "        text-align: right;\n",
       "    }\n",
       "</style>\n",
       "<table border=\"1\" class=\"dataframe\">\n",
       "  <thead>\n",
       "    <tr style=\"text-align: right;\">\n",
       "      <th></th>\n",
       "      <th>_id</th>\n",
       "      <th>score</th>\n",
       "      <th>userid</th>\n",
       "    </tr>\n",
       "  </thead>\n",
       "  <tbody>\n",
       "    <tr>\n",
       "      <th>0</th>\n",
       "      <td>5bcf3ba34c5abe7ed0736389</td>\n",
       "      <td>80</td>\n",
       "      <td>ds101</td>\n",
       "    </tr>\n",
       "    <tr>\n",
       "      <th>1</th>\n",
       "      <td>5bcf3ba34c5abe7ed073638a</td>\n",
       "      <td>80</td>\n",
       "      <td>ds102</td>\n",
       "    </tr>\n",
       "    <tr>\n",
       "      <th>2</th>\n",
       "      <td>5bcf3ba34c5abe7ed073638b</td>\n",
       "      <td>60</td>\n",
       "      <td>ds103</td>\n",
       "    </tr>\n",
       "  </tbody>\n",
       "</table>\n",
       "</div>"
      ],
      "text/plain": [
       "                        _id  score userid\n",
       "0  5bcf3ba34c5abe7ed0736389     80  ds101\n",
       "1  5bcf3ba34c5abe7ed073638a     80  ds102\n",
       "2  5bcf3ba34c5abe7ed073638b     60  ds103"
      ]
     },
     "execution_count": 26,
     "metadata": {},
     "output_type": "execute_result"
    }
   ],
   "source": [
    "db = conn['KU_dataset_1']\n",
    "collection = db['data1_score.csv']\n",
    "df = pd.DataFrame(list(collection.find()))\n",
    "df.head(3)"
   ]
  },
  {
   "cell_type": "code",
   "execution_count": 27,
   "metadata": {},
   "outputs": [],
   "source": [
    "score_df = df['score']\n",
    "score_df = score_df.dropna()\n",
    "score_df = score_df.astype(float)\n",
    "ku_br01 = score_df.astype(int)"
   ]
  },
  {
   "cell_type": "markdown",
   "metadata": {},
   "source": [
    "### KU BR02"
   ]
  },
  {
   "cell_type": "code",
   "execution_count": 28,
   "metadata": {},
   "outputs": [
    {
     "data": {
      "text/html": [
       "<div>\n",
       "<style scoped>\n",
       "    .dataframe tbody tr th:only-of-type {\n",
       "        vertical-align: middle;\n",
       "    }\n",
       "\n",
       "    .dataframe tbody tr th {\n",
       "        vertical-align: top;\n",
       "    }\n",
       "\n",
       "    .dataframe thead th {\n",
       "        text-align: right;\n",
       "    }\n",
       "</style>\n",
       "<table border=\"1\" class=\"dataframe\">\n",
       "  <thead>\n",
       "    <tr style=\"text-align: right;\">\n",
       "      <th></th>\n",
       "      <th>_id</th>\n",
       "      <th>score</th>\n",
       "      <th>userid</th>\n",
       "    </tr>\n",
       "  </thead>\n",
       "  <tbody>\n",
       "    <tr>\n",
       "      <th>0</th>\n",
       "      <td>5bcf3ba64c5abe7ed073f4ac</td>\n",
       "      <td>100.0</td>\n",
       "      <td>ds201</td>\n",
       "    </tr>\n",
       "    <tr>\n",
       "      <th>1</th>\n",
       "      <td>5bcf3ba64c5abe7ed073f4ad</td>\n",
       "      <td>62.5</td>\n",
       "      <td>ds202</td>\n",
       "    </tr>\n",
       "    <tr>\n",
       "      <th>2</th>\n",
       "      <td>5bcf3ba64c5abe7ed073f4ae</td>\n",
       "      <td>87.5</td>\n",
       "      <td>ds203</td>\n",
       "    </tr>\n",
       "  </tbody>\n",
       "</table>\n",
       "</div>"
      ],
      "text/plain": [
       "                        _id  score userid\n",
       "0  5bcf3ba64c5abe7ed073f4ac  100.0  ds201\n",
       "1  5bcf3ba64c5abe7ed073f4ad   62.5  ds202\n",
       "2  5bcf3ba64c5abe7ed073f4ae   87.5  ds203"
      ]
     },
     "execution_count": 28,
     "metadata": {},
     "output_type": "execute_result"
    }
   ],
   "source": [
    "db = conn['KU_dataset_2']\n",
    "collection = db['data2_score.csv']\n",
    "df = pd.DataFrame(list(collection.find()))\n",
    "df.head(3)"
   ]
  },
  {
   "cell_type": "code",
   "execution_count": 29,
   "metadata": {},
   "outputs": [],
   "source": [
    "score_df = df['score']\n",
    "score_df = score_df.dropna()\n",
    "score_df = score_df.astype(float)\n",
    "ku_br02 = score_df.astype(int)"
   ]
  },
  {
   "cell_type": "markdown",
   "metadata": {},
   "source": [
    "# AU"
   ]
  },
  {
   "cell_type": "markdown",
   "metadata": {},
   "source": [
    "### AU BIO 106"
   ]
  },
  {
   "cell_type": "code",
   "execution_count": 30,
   "metadata": {},
   "outputs": [
    {
     "data": {
      "text/plain": [
       "['AU_106_2_BIO_pre_post_test_grade_preview_with_bookroll.csv',\n",
       " 'AU_106_2_BIO_final_score.csv',\n",
       " 'Course_1_EventStream',\n",
       " 'AU_106_2_SE_score.csv',\n",
       " 'AU_106_2_BIO_feature_and_score.csv',\n",
       " 'Course_1_LectureTime',\n",
       " 'Course_2_LectureMaterial',\n",
       " 'AU_106_2_BIO_pre_post_test_grade_preview_without_bookroll.csv',\n",
       " 'Course_3_LectureMaterial',\n",
       " 'Course_3_LectureTime',\n",
       " 'Course_2_QuizScore',\n",
       " 'Course_3_QuizScore',\n",
       " 'AU_106_2_SE_feature_and_score.csv',\n",
       " 'AU_106_2_BIO_BookRollLog.csv',\n",
       " 'Course_1_LectureMaterial',\n",
       " 'Course_2_LectureTime',\n",
       " 'AU_106_2_SE_BookRollLog.csv',\n",
       " 'Course_1_QuizScore',\n",
       " 'Course_3_EventStream',\n",
       " 'Course_2_EventStream']"
      ]
     },
     "execution_count": 30,
     "metadata": {},
     "output_type": "execute_result"
    }
   ],
   "source": [
    "db = conn['AU']\n",
    "collection_list = db.collection_names()\n",
    "collection_list"
   ]
  },
  {
   "cell_type": "code",
   "execution_count": 31,
   "metadata": {},
   "outputs": [
    {
     "data": {
      "text/html": [
       "<div>\n",
       "<style scoped>\n",
       "    .dataframe tbody tr th:only-of-type {\n",
       "        vertical-align: middle;\n",
       "    }\n",
       "\n",
       "    .dataframe tbody tr th {\n",
       "        vertical-align: top;\n",
       "    }\n",
       "\n",
       "    .dataframe thead th {\n",
       "        text-align: right;\n",
       "    }\n",
       "</style>\n",
       "<table border=\"1\" class=\"dataframe\">\n",
       "  <thead>\n",
       "    <tr style=\"text-align: right;\">\n",
       "      <th></th>\n",
       "      <th>_id</th>\n",
       "      <th>final_score</th>\n",
       "      <th>student_id</th>\n",
       "    </tr>\n",
       "  </thead>\n",
       "  <tbody>\n",
       "    <tr>\n",
       "      <th>0</th>\n",
       "      <td>5bcf3b884c5abe7ed070638d</td>\n",
       "      <td>83</td>\n",
       "      <td>103042006</td>\n",
       "    </tr>\n",
       "    <tr>\n",
       "      <th>1</th>\n",
       "      <td>5bcf3b884c5abe7ed070638e</td>\n",
       "      <td>60</td>\n",
       "      <td>104013080</td>\n",
       "    </tr>\n",
       "    <tr>\n",
       "      <th>2</th>\n",
       "      <td>5bcf3b884c5abe7ed070638f</td>\n",
       "      <td>79</td>\n",
       "      <td>104013100</td>\n",
       "    </tr>\n",
       "  </tbody>\n",
       "</table>\n",
       "</div>"
      ],
      "text/plain": [
       "                        _id  final_score  student_id\n",
       "0  5bcf3b884c5abe7ed070638d           83   103042006\n",
       "1  5bcf3b884c5abe7ed070638e           60   104013080\n",
       "2  5bcf3b884c5abe7ed070638f           79   104013100"
      ]
     },
     "execution_count": 31,
     "metadata": {},
     "output_type": "execute_result"
    }
   ],
   "source": [
    "db = conn['AU']\n",
    "collection = db['AU_106_2_BIO_final_score.csv']\n",
    "df = pd.DataFrame(list(collection.find()))\n",
    "df.head(3)"
   ]
  },
  {
   "cell_type": "code",
   "execution_count": 32,
   "metadata": {},
   "outputs": [],
   "source": [
    "score_df = df['final_score']\n",
    "score_df = score_df.dropna()\n",
    "score_df = score_df.astype(float)\n",
    "au_106bio = score_df.astype(int)"
   ]
  },
  {
   "cell_type": "markdown",
   "metadata": {},
   "source": [
    "### AU SE 106"
   ]
  },
  {
   "cell_type": "code",
   "execution_count": 33,
   "metadata": {
    "scrolled": true
   },
   "outputs": [],
   "source": [
    "db = conn['AU']\n",
    "collection = db['AU_106_2_SE_score.csv']\n",
    "df = pd.DataFrame(list(collection.find()))\n",
    "#df"
   ]
  },
  {
   "cell_type": "code",
   "execution_count": 34,
   "metadata": {},
   "outputs": [],
   "source": [
    "score_df = df['final_exam']\n",
    "score_df = score_df.dropna()\n",
    "score_df = score_df.astype(float)\n",
    "au_106se = score_df.astype(int)"
   ]
  },
  {
   "cell_type": "markdown",
   "metadata": {},
   "source": [
    "# Visualization"
   ]
  },
  {
   "cell_type": "code",
   "execution_count": 35,
   "metadata": {},
   "outputs": [],
   "source": [
    "course_list = ['ncux_fc', 'ncux_chka', 'ncux_chkb', 'ncux_pre', 'ncux_cl', \n",
    "               'cycu_1031sp', 'cycu_1041sp', 'cycu_1051sp',\n",
    "               'cycu_1042os', 'cycu_1052os',\n",
    "               'ku_br01', 'ku_br02']"
   ]
  },
  {
   "cell_type": "code",
   "execution_count": 36,
   "metadata": {},
   "outputs": [],
   "source": [
    "def mean_confidence_interval(data, confidence=0.95):\n",
    "    a = 1.0 * np.array(data)\n",
    "    n = len(a)\n",
    "    m, se = np.mean(a), stats.sem(a)\n",
    "    h = se * stats.t.ppf((1 + confidence) / 2., n-1)\n",
    "    return m, m-h, m+h"
   ]
  },
  {
   "cell_type": "code",
   "execution_count": 37,
   "metadata": {},
   "outputs": [],
   "source": [
    "xmin, xmax = 0, 100 \n",
    "lnspc = np.linspace(xmin, xmax, 1000)\n",
    "\n",
    "\n",
    "X = []\n",
    "for i in range(0, len(course_list)):\n",
    "    m, s = stats.norm.fit(globals()[course_list[i]])  \n",
    "    globals()['pdf_g_' + course_list[i]] = stats.norm.pdf(lnspc, m, s) \n",
    "    #print('pdf_g_' + course_list[i])\n",
    "    X.append(globals()['pdf_g_' + course_list[i]])\n"
   ]
  },
  {
   "cell_type": "code",
   "execution_count": 38,
   "metadata": {},
   "outputs": [
    {
     "data": {
      "text/plain": [
       "array([1, 3, 3, 2, 1, 1, 1, 1, 1, 1, 2, 2], dtype=int32)"
      ]
     },
     "execution_count": 38,
     "metadata": {},
     "output_type": "execute_result"
    }
   ],
   "source": [
    "\n",
    "X = np.array(X)\n",
    "kmeans = KMeans(n_clusters=3, random_state=0).fit(X)\n",
    "\n",
    "centroids = kmeans.cluster_centers_\n",
    "labels = kmeans.labels_\n",
    "\n",
    "labels[labels == 1] = 3\n",
    "labels[labels == 0] = 1\n",
    "\n",
    "labels"
   ]
  },
  {
   "cell_type": "code",
   "execution_count": 39,
   "metadata": {},
   "outputs": [],
   "source": [
    "for i in range(0, len(course_list)):\n",
    "    \n",
    "    globals()[course_list[i] + '_kurs'] = 'kurtosis=' + str(format(kurtosis(globals()[course_list[i]]), '.2f'))\n",
    "    globals()[course_list[i] + '_skew'] = 'skew=' + str(format(skew(globals()[course_list[i]]), '.2f'))\n",
    "    globals()[course_list[i] + '_type'] = 'type=' + str(labels[i])\n",
    "    "
   ]
  },
  {
   "cell_type": "code",
   "execution_count": 40,
   "metadata": {},
   "outputs": [
    {
     "data": {
      "image/png": "[encoded data removed]",
      "text/plain": [
       "<Figure size 1008x720 with 12 Axes>"
      ]
     },
     "metadata": {},
     "output_type": "display_data"
    }
   ],
   "source": [
    "matplotlib.rcParams.update({'font.size': 12})\n",
    "\n",
    "plt.figure(figsize=(14, 10))\n",
    "plt.subplots_adjust(hspace=0.4, wspace=0.4)\n",
    "\n",
    "label = ['Validation', 'Testing']\n",
    "bins = 10\n",
    "ylimit = 0.09\n",
    "subplot_x = 4\n",
    "subplot_y = 4\n",
    "\n",
    "for i in range(0, len(course_list)):\n",
    "\n",
    "    ax = plt.subplot(subplot_x, subplot_y, i+1)\n",
    "    plt.hist(globals()[course_list[i]], bins = bins, density=True)\n",
    "    plt.plot(lnspc, globals()['pdf_g_' + course_list[i]], label=\"Norm\") # plot it\n",
    "    plt.title('DS'+str(i))\n",
    "    plt.ylabel('Probability')\n",
    "    plt.xlabel('Final Score')\n",
    "    plt.xlim(0, 100)\n",
    "    plt.ylim(0, ylimit)\n",
    "    ax.annotate(globals()[course_list[i] + '_kurs'], xy=(20, 0.075))\n",
    "    ax.annotate(globals()[course_list[i] + '_skew'], xy=(20, 0.055))\n",
    "    ax.annotate(globals()[course_list[i] + '_type'], xy=(20, 0.035))\n",
    "\n",
    "plt.tight_layout()\n",
    "plt.savefig('./images/score_distribution.png', dpi=300)\n",
    "\n",
    "#plt.show()"
   ]
  },
  {
   "cell_type": "code",
   "execution_count": 59,
   "metadata": {},
   "outputs": [
    {
     "data": {
      "image/png": "[encoded data removed]",
      "text/plain": [
       "<Figure size 720x360 with 1 Axes>"
      ]
     },
     "metadata": {},
     "output_type": "display_data"
    }
   ],
   "source": [
    "# k means determine k\n",
    "matplotlib.rcParams.update({'font.size': 16})\n",
    "plt.figure(figsize=(10, 5))\n",
    "\n",
    "distortions = []\n",
    "K = range(1,len(course_list))\n",
    "for k in K:\n",
    "    kmeanModel = KMeans(n_clusters=k).fit(X)\n",
    "    kmeanModel.fit(X)\n",
    "    distortions.append(sum(np.min(cdist(X, kmeanModel.cluster_centers_, 'seuclidean'), axis=1)) / X.shape[0])\n",
    "\n",
    "# metric : str or callable, optional\n",
    "#     The distance metric to use.  If a string, the distance function can be\n",
    "#     'braycurtis', 'canberra', 'chebyshev', 'cityblock', 'correlation',\n",
    "#     'cosine', 'dice', 'euclidean', 'hamming', 'jaccard', 'kulsinski',\n",
    "#     'mahalanobis', 'matching', 'minkowski', 'rogerstanimoto', 'russellrao',\n",
    "#     'seuclidean', 'sokalmichener', 'sokalsneath', 'sqeuclidean',\n",
    "#     'wminkowski', 'yule'.\n",
    "    \n",
    "lablestring = 'optimal value for k'\n",
    "plt.annotate(lablestring, xy=(3, 11), xytext=(3, 15),\n",
    "            arrowprops=dict(facecolor='black', shrink=0.05),\n",
    "            )\n",
    "    \n",
    "# Plot the elbow\n",
    "plt.plot(K, distortions, 'bx-')\n",
    "plt.xlabel('k')\n",
    "plt.ylabel('Distortion')\n",
    "#plt.title('The Elbow Method showing the optimal k')\n",
    "plt.savefig('./images/elbow.png', dpi=300)\n",
    "plt.show()"
   ]
  },
  {
   "cell_type": "code",
   "execution_count": null,
   "metadata": {},
   "outputs": [],
   "source": [
    "'kurtosis=' + str(format(kurtosis(ku_br02), '.2f'))"
   ]
  },
  {
   "cell_type": "code",
   "execution_count": null,
   "metadata": {},
   "outputs": [],
   "source": []
  }
 ],
 "metadata": {
  "kernelspec": {
   "display_name": "Python 3",
   "language": "python",
   "name": "python3"
  },
  "language_info": {
   "codemirror_mode": {
    "name": "ipython",
    "version": 3
   },
   "file_extension": ".py",
   "mimetype": "text/x-python",
   "name": "python",
   "nbconvert_exporter": "python",
   "pygments_lexer": "ipython3",
   "version": "3.4.3"
  }
 },
 "nbformat": 4,
 "nbformat_minor": 2
}
