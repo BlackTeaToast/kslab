{
 "cells": [
  {
   "cell_type": "code",
   "execution_count": 1,
   "metadata": {},
   "outputs": [
    {
     "name": "stderr",
     "output_type": "stream",
     "text": [
      "/usr/lib/python3.4/importlib/_bootstrap.py:321: RuntimeWarning: numpy.dtype size changed, may indicate binary incompatibility. Expected 96, got 88\n",
      "  return f(*args, **kwds)\n",
      "/usr/lib/python3.4/importlib/_bootstrap.py:321: RuntimeWarning: numpy.dtype size changed, may indicate binary incompatibility. Expected 96, got 88\n",
      "  return f(*args, **kwds)\n"
     ]
    }
   ],
   "source": [
    "import pandas as pd\n",
    "import numpy as np\n",
    "import matplotlib.pyplot as plt\n",
    "import seaborn as sns\n",
    "from lifelines import KaplanMeierFitter\n",
    "\n",
    "import warnings\n",
    "warnings.filterwarnings('ignore')"
   ]
  },
  {
   "cell_type": "code",
   "execution_count": 2,
   "metadata": {},
   "outputs": [],
   "source": [
    "df = pd.read_csv('course_730.csv', engine='python')\n",
    "\n",
    "df_org = df\n",
    "\n",
    "df = df.drop([list(df)[0], list(df)[-3], 'final_score', 'group'], axis=1)\n",
    "#df = df.drop(['hw1_score', 'hw2_score', 'hw3_score', 'student_id'], axis=1)\n",
    "df = df.drop(['student_id', 'hw2_score', 'hw3_score'], axis=1)\n",
    "\n",
    "df = df.drop(['HW1_C', 'HW1_R', 'HW1_W', 'HW1_E'], axis=1)\n",
    "df = df.drop(['HW2_C', 'HW2_R', 'HW2_W', 'HW2_E'], axis=1)\n",
    "df = df.drop(['HW3_C', 'HW3_R', 'HW3_W', 'HW3_E'], axis=1)\n",
    "\n",
    "df = df.rename(index=str, columns={list(df)[-1]: \"label_2\",\n",
    "                              list(df)[-2]: \"label_1\"})\n",
    "df = df[df.HW1.notna()]\n",
    "df = df[df.HW2.notna()]\n",
    "df = df[df.HW3.notna()]\n",
    "df = df[df.HW3.notna()]\n",
    "df = df[df.HW2 != 'error']\n",
    "df = df[df.label_2 != '?�修']\n",
    "df = df[df.label_1.notna()]\n"
   ]
  },
  {
   "cell_type": "code",
   "execution_count": 3,
   "metadata": {},
   "outputs": [
    {
     "data": {
      "text/html": [
       "<div>\n",
       "<style scoped>\n",
       "    .dataframe tbody tr th:only-of-type {\n",
       "        vertical-align: middle;\n",
       "    }\n",
       "\n",
       "    .dataframe tbody tr th {\n",
       "        vertical-align: top;\n",
       "    }\n",
       "\n",
       "    .dataframe thead th {\n",
       "        text-align: right;\n",
       "    }\n",
       "</style>\n",
       "<table border=\"1\" class=\"dataframe\">\n",
       "  <thead>\n",
       "    <tr style=\"text-align: right;\">\n",
       "      <th></th>\n",
       "      <th>hw1_score</th>\n",
       "      <th>w1_onlineDays</th>\n",
       "      <th>w1_onlineCount</th>\n",
       "      <th>w1_onlineTime</th>\n",
       "      <th>w1_passCount</th>\n",
       "      <th>w1_failCount</th>\n",
       "      <th>w1_SyntaxError</th>\n",
       "      <th>w1_NameError</th>\n",
       "      <th>w1_IndentationError</th>\n",
       "      <th>w1_ValueError</th>\n",
       "      <th>w1_TypeError</th>\n",
       "    </tr>\n",
       "  </thead>\n",
       "  <tbody>\n",
       "    <tr>\n",
       "      <th>0</th>\n",
       "      <td>25.0</td>\n",
       "      <td>0.0</td>\n",
       "      <td>0.0</td>\n",
       "      <td>0.000</td>\n",
       "      <td>0.0</td>\n",
       "      <td>0.0</td>\n",
       "      <td>0.0</td>\n",
       "      <td>0.0</td>\n",
       "      <td>0.0</td>\n",
       "      <td>0.0</td>\n",
       "      <td>0.0</td>\n",
       "    </tr>\n",
       "    <tr>\n",
       "      <th>5</th>\n",
       "      <td>25.0</td>\n",
       "      <td>2.0</td>\n",
       "      <td>1.0</td>\n",
       "      <td>6002.317</td>\n",
       "      <td>62.0</td>\n",
       "      <td>38.0</td>\n",
       "      <td>11.0</td>\n",
       "      <td>8.0</td>\n",
       "      <td>7.0</td>\n",
       "      <td>0.0</td>\n",
       "      <td>12.0</td>\n",
       "    </tr>\n",
       "    <tr>\n",
       "      <th>8</th>\n",
       "      <td>25.0</td>\n",
       "      <td>1.0</td>\n",
       "      <td>1.0</td>\n",
       "      <td>3470.740</td>\n",
       "      <td>14.0</td>\n",
       "      <td>18.0</td>\n",
       "      <td>14.0</td>\n",
       "      <td>0.0</td>\n",
       "      <td>2.0</td>\n",
       "      <td>0.0</td>\n",
       "      <td>0.0</td>\n",
       "    </tr>\n",
       "    <tr>\n",
       "      <th>9</th>\n",
       "      <td>25.0</td>\n",
       "      <td>1.0</td>\n",
       "      <td>1.0</td>\n",
       "      <td>4327.470</td>\n",
       "      <td>58.0</td>\n",
       "      <td>27.0</td>\n",
       "      <td>8.0</td>\n",
       "      <td>14.0</td>\n",
       "      <td>3.0</td>\n",
       "      <td>0.0</td>\n",
       "      <td>2.0</td>\n",
       "    </tr>\n",
       "    <tr>\n",
       "      <th>12</th>\n",
       "      <td>25.0</td>\n",
       "      <td>1.0</td>\n",
       "      <td>1.0</td>\n",
       "      <td>3871.781</td>\n",
       "      <td>36.0</td>\n",
       "      <td>25.0</td>\n",
       "      <td>16.0</td>\n",
       "      <td>4.0</td>\n",
       "      <td>5.0</td>\n",
       "      <td>0.0</td>\n",
       "      <td>0.0</td>\n",
       "    </tr>\n",
       "  </tbody>\n",
       "</table>\n",
       "</div>"
      ],
      "text/plain": [
       "    hw1_score  w1_onlineDays  w1_onlineCount  w1_onlineTime  w1_passCount  \\\n",
       "0        25.0            0.0             0.0          0.000           0.0   \n",
       "5        25.0            2.0             1.0       6002.317          62.0   \n",
       "8        25.0            1.0             1.0       3470.740          14.0   \n",
       "9        25.0            1.0             1.0       4327.470          58.0   \n",
       "12       25.0            1.0             1.0       3871.781          36.0   \n",
       "\n",
       "    w1_failCount  w1_SyntaxError  w1_NameError  w1_IndentationError  \\\n",
       "0            0.0             0.0           0.0                  0.0   \n",
       "5           38.0            11.0           8.0                  7.0   \n",
       "8           18.0            14.0           0.0                  2.0   \n",
       "9           27.0             8.0          14.0                  3.0   \n",
       "12          25.0            16.0           4.0                  5.0   \n",
       "\n",
       "    w1_ValueError  w1_TypeError  \n",
       "0             0.0           0.0  \n",
       "5             0.0          12.0  \n",
       "8             0.0           0.0  \n",
       "9             0.0           2.0  \n",
       "12            0.0           0.0  "
      ]
     },
     "execution_count": 3,
     "metadata": {},
     "output_type": "execute_result"
    }
   ],
   "source": [
    "feature_list = list(df)\n",
    "hw1_df = df[feature_list[3:14]]\n",
    "hw1_df.head()"
   ]
  },
  {
   "cell_type": "code",
   "execution_count": null,
   "metadata": {
    "scrolled": true
   },
   "outputs": [],
   "source": [
    "hw1_df_km = hw1_df\n",
    "\n",
    "hw1_df_km['class'] = hw1_df_km['hw1_score'] < 24\n",
    "hw1_df_km['duration'] = hw1_df_km['w1_onlineTime'] / 60\n",
    "hw1_df_km['duration'] = hw1_df_km['duration'].astype(int)\n",
    "\n",
    "hw1_df_km = hw1_df_km.drop(['hw1_score', 'w1_onlineTime'], axis=1)\n",
    "hw1_df_km"
   ]
  },
  {
   "cell_type": "markdown",
   "metadata": {},
   "source": [
    "# Distribution"
   ]
  },
  {
   "cell_type": "code",
   "execution_count": null,
   "metadata": {},
   "outputs": [],
   "source": [
    "plt.figure(figsize=(15, 15))\n",
    "ax = hw1_df_km.drop(['class'], axis=1).hist(alpha=0.8, bins=15, figsize=(15, 10))\n",
    "#for x in ax:\n",
    "#     x.set_title('x')\n",
    "\n",
    "for array in ax:\n",
    "    for subplot in array:\n",
    "        subplot.set_ylabel('# of Students')\n",
    "        subplot.set_xlabel('Count')\n",
    "\n",
    "plt.tight_layout()\n",
    "plt.savefig('svm_conf.png', dpi=400)"
   ]
  },
  {
   "cell_type": "markdown",
   "metadata": {},
   "source": [
    "# KaplanMeierFitter"
   ]
  },
  {
   "cell_type": "code",
   "execution_count": null,
   "metadata": {
    "scrolled": false
   },
   "outputs": [],
   "source": [
    "kmf = KaplanMeierFitter() \n",
    "kmf.fit(durations = hw1_df_km.duration, event_observed = hw1_df_km['class'])\n",
    "#kmf.event_table"
   ]
  },
  {
   "cell_type": "code",
   "execution_count": null,
   "metadata": {},
   "outputs": [],
   "source": [
    "# plot the KM estimate\n",
    "kmf.plot()\n",
    "# Add title and y-axis label\n",
    "plt.title(\"The Kaplan-Meier Estimate for Math Course\")\n",
    "plt.ylabel(\"Probability a Student Pass Homework\")\n",
    "plt.xlabel(\"Time spent on programming (minutes)\")\n",
    "\n",
    "plt.show()"
   ]
  },
  {
   "cell_type": "markdown",
   "metadata": {},
   "source": [
    "# LogRank"
   ]
  },
  {
   "cell_type": "code",
   "execution_count": null,
   "metadata": {
    "scrolled": true
   },
   "outputs": [],
   "source": [
    "hw1_df_km['class_passCount'] = hw1_df_km['w1_passCount'] < 125\n",
    "hw1_df_km = hw1_df_km.drop(['w1_passCount'], axis=1)\n",
    "hw1_df_km"
   ]
  },
  {
   "cell_type": "code",
   "execution_count": null,
   "metadata": {},
   "outputs": [],
   "source": [
    "from lifelines import KaplanMeierFitter\n",
    "\n",
    "ix = hw1_df_km['class_passCount'] == True\n",
    "\n",
    "plt.figure(figsize=(10, 8))\n",
    "ax = plt.subplot(111)\n",
    "\n",
    "kmf_control = KaplanMeierFitter()\n",
    "ax = kmf_control.fit(hw1_df_km.loc[ix]['duration'], \n",
    "                     hw1_df_km.loc[ix]['class'], \n",
    "                     label='passCount<25').plot(ax=ax)\n",
    "\n",
    "kmf_exp = KaplanMeierFitter()\n",
    "ax = kmf_exp.fit(hw1_df_km.loc[~ix]['duration'], \n",
    "                 hw1_df_km.loc[~ix]['class'],\n",
    "                 label='passCount>25').plot(ax=ax)\n",
    "\n",
    "plt.title(\"The Kaplan-Meier Estimate for Math Course Homework#1\")\n",
    "plt.ylabel(\"Probability a Student Pass Homework\")\n",
    "plt.xlabel(\"Time spent on programming (minutes)\")\n",
    "\n",
    "from lifelines.plotting import add_at_risk_counts\n",
    "add_at_risk_counts(kmf_exp, kmf_control, ax=ax)\n",
    "\n",
    "plt.tight_layout()\n",
    "#plt.savefig('km_hw1_passcount.png', dpi=400)"
   ]
  },
  {
   "cell_type": "code",
   "execution_count": null,
   "metadata": {},
   "outputs": [],
   "source": []
  }
 ],
 "metadata": {
  "kernelspec": {
   "display_name": "Python 3",
   "language": "python",
   "name": "python3"
  },
  "language_info": {
   "codemirror_mode": {
    "name": "ipython",
    "version": 3
   },
   "file_extension": ".py",
   "mimetype": "text/x-python",
   "name": "python",
   "nbconvert_exporter": "python",
   "pygments_lexer": "ipython3",
   "version": "3.4.3"
  }
 },
 "nbformat": 4,
 "nbformat_minor": 2
}
